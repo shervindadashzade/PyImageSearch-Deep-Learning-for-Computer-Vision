{
 "cells": [
  {
   "cell_type": "code",
   "execution_count": 1,
   "id": "a05801d3",
   "metadata": {},
   "outputs": [],
   "source": [
    "import sys\n",
    "import os\n",
    "\n",
    "sys.path.append(os.getcwd())"
   ]
  },
  {
   "cell_type": "code",
   "execution_count": 2,
   "id": "9ec174e0",
   "metadata": {},
   "outputs": [],
   "source": [
    "from utils.nn import Perceptron\n",
    "import numpy as np"
   ]
  },
  {
   "cell_type": "markdown",
   "id": "0ee042bd",
   "metadata": {},
   "source": [
    "### Examine wheter our perceptron algorithm can learn OR function"
   ]
  },
  {
   "cell_type": "code",
   "execution_count": 3,
   "id": "b798420e",
   "metadata": {},
   "outputs": [],
   "source": [
    "X = np.array([[0,0],[0,1],[1,0],[1,1]])\n",
    "y = np.array([[0],[1],[1],[1]])"
   ]
  },
  {
   "cell_type": "code",
   "execution_count": 4,
   "id": "20ed895d",
   "metadata": {},
   "outputs": [
    {
     "name": "stdout",
     "output_type": "stream",
     "text": [
      "[INFO] training perceptron\n"
     ]
    }
   ],
   "source": [
    "print(\"[INFO] training perceptron\")\n",
    "p = Perceptron(X.shape[1], alpha=0.1)\n",
    "p.fit(X,y, epochs= 20)"
   ]
  },
  {
   "cell_type": "code",
   "execution_count": 5,
   "id": "5c14f038",
   "metadata": {},
   "outputs": [
    {
     "name": "stdout",
     "output_type": "stream",
     "text": [
      "[INFO] testing perceptron...\n",
      "[INFO] data=[0 0] ground-truth=[0], pred=0\n",
      "[INFO] data=[0 1] ground-truth=[1], pred=1\n",
      "[INFO] data=[1 0] ground-truth=[1], pred=1\n",
      "[INFO] data=[1 1] ground-truth=[1], pred=1\n"
     ]
    }
   ],
   "source": [
    "print(\"[INFO] testing perceptron...\")\n",
    "for (x,target) in zip(X,y):\n",
    "    pred = p.predict(x)\n",
    "    print(f\"[INFO] data={x} ground-truth={target}, pred={pred}\")\n",
    "    "
   ]
  },
  {
   "cell_type": "markdown",
   "id": "261bb4e0",
   "metadata": {},
   "source": [
    "### Examine wheter our perceptron algorithm can learn AND function"
   ]
  },
  {
   "cell_type": "code",
   "execution_count": 11,
   "id": "ab90683e",
   "metadata": {},
   "outputs": [],
   "source": [
    "X = np.array([[0,0],[0,1],[1,0],[1,1]])\n",
    "y = np.array([[0],[0],[0],[1]])"
   ]
  },
  {
   "cell_type": "code",
   "execution_count": 12,
   "id": "0c0f0a22",
   "metadata": {},
   "outputs": [
    {
     "name": "stdout",
     "output_type": "stream",
     "text": [
      "[INFO] training perceptron\n"
     ]
    }
   ],
   "source": [
    "print(\"[INFO] training perceptron\")\n",
    "p = Perceptron(X.shape[1], alpha=0.1)\n",
    "p.fit(X,y, epochs= 20)"
   ]
  },
  {
   "cell_type": "code",
   "execution_count": 13,
   "id": "3b6c7fc7",
   "metadata": {},
   "outputs": [
    {
     "name": "stdout",
     "output_type": "stream",
     "text": [
      "[INFO] testing perceptron...\n",
      "[INFO] data=[0 0] ground-truth=[0], pred=0\n",
      "[INFO] data=[0 1] ground-truth=[0], pred=0\n",
      "[INFO] data=[1 0] ground-truth=[0], pred=0\n",
      "[INFO] data=[1 1] ground-truth=[1], pred=1\n"
     ]
    }
   ],
   "source": [
    "print(\"[INFO] testing perceptron...\")\n",
    "for (x,target) in zip(X,y):\n",
    "    pred = p.predict(x)\n",
    "    print(f\"[INFO] data={x} ground-truth={target}, pred={pred}\")"
   ]
  },
  {
   "cell_type": "markdown",
   "id": "317b8038",
   "metadata": {},
   "source": [
    "### Now it is turn of a non linear separable function (XOR)"
   ]
  },
  {
   "cell_type": "code",
   "execution_count": 14,
   "id": "165d2f9d",
   "metadata": {},
   "outputs": [],
   "source": [
    "y= np.array([[0],[1],[1],[0]])"
   ]
  },
  {
   "cell_type": "code",
   "execution_count": 15,
   "id": "a36ab13b",
   "metadata": {},
   "outputs": [
    {
     "name": "stdout",
     "output_type": "stream",
     "text": [
      "[INFO] training perceptron\n"
     ]
    }
   ],
   "source": [
    "print(\"[INFO] training perceptron\")\n",
    "p = Perceptron(X.shape[1], alpha=0.1)\n",
    "p.fit(X,y, epochs= 20)"
   ]
  },
  {
   "cell_type": "code",
   "execution_count": 16,
   "id": "926d7125",
   "metadata": {},
   "outputs": [
    {
     "name": "stdout",
     "output_type": "stream",
     "text": [
      "[INFO] testing perceptron...\n",
      "[INFO] data=[0 0] ground-truth=[0], pred=1\n",
      "[INFO] data=[0 1] ground-truth=[1], pred=1\n",
      "[INFO] data=[1 0] ground-truth=[1], pred=0\n",
      "[INFO] data=[1 1] ground-truth=[0], pred=1\n"
     ]
    }
   ],
   "source": [
    "print(\"[INFO] testing perceptron...\")\n",
    "for (x,target) in zip(X,y):\n",
    "    pred = p.predict(x)\n",
    "    print(f\"[INFO] data={x} ground-truth={target}, pred={pred}\")"
   ]
  }
 ],
 "metadata": {
  "kernelspec": {
   "display_name": "Python 3 (ipykernel)",
   "language": "python",
   "name": "python3"
  },
  "language_info": {
   "codemirror_mode": {
    "name": "ipython",
    "version": 3
   },
   "file_extension": ".py",
   "mimetype": "text/x-python",
   "name": "python",
   "nbconvert_exporter": "python",
   "pygments_lexer": "ipython3",
   "version": "3.8.10"
  }
 },
 "nbformat": 4,
 "nbformat_minor": 5
}
