{
 "cells": [
  {
   "cell_type": "markdown",
   "id": "63d93e51",
   "metadata": {},
   "source": [
    "## Training our neural network implementation using MNIST dataset"
   ]
  },
  {
   "cell_type": "code",
   "execution_count": 1,
   "id": "768544b7",
   "metadata": {},
   "outputs": [],
   "source": [
    "from utils.nn import NeuralNetwork\n",
    "from sklearn.preprocessing import LabelBinarizer\n",
    "from sklearn.model_selection import train_test_split\n",
    "from sklearn.metrics import classification_report\n",
    "from sklearn import datasets"
   ]
  },
  {
   "cell_type": "code",
   "execution_count": 2,
   "id": "9cb92b9d",
   "metadata": {},
   "outputs": [
    {
     "name": "stdout",
     "output_type": "stream",
     "text": [
      "[INFO] loading MNIST (sample) dataset...\n",
      "[INFO] samples: 1797, dim: 64\n"
     ]
    }
   ],
   "source": [
    "print(\"[INFO] loading MNIST (sample) dataset...\")\n",
    "digits = datasets.load_digits()\n",
    "data = digits.data.astype('float')\n",
    "data = (data - data.min()) / (data.max() - data.min())\n",
    "print(f\"[INFO] samples: {data.shape[0]}, dim: {data.shape[1]}\")"
   ]
  },
  {
   "cell_type": "code",
   "execution_count": 3,
   "id": "ae435fbd",
   "metadata": {},
   "outputs": [],
   "source": [
    "(trainX, testX, trainY,testY) = train_test_split(data, digits.target, test_size=0.25)"
   ]
  },
  {
   "cell_type": "code",
   "execution_count": 4,
   "id": "00058931",
   "metadata": {},
   "outputs": [],
   "source": [
    "trainY = LabelBinarizer().fit_transform(trainY)\n",
    "testY = LabelBinarizer().fit_transform(testY)"
   ]
  },
  {
   "cell_type": "code",
   "execution_count": 6,
   "id": "a01eae2e",
   "metadata": {},
   "outputs": [
    {
     "name": "stdout",
     "output_type": "stream",
     "text": [
      "[INFO] training network...\n",
      "[INFO] Neural Network: 64-32-16-10\n",
      "[INFO] epoch=0, loss=607.1969613\n",
      "[INFO] epoch=99, loss=7.6416497\n",
      "[INFO] epoch=199, loss=3.4712586\n",
      "[INFO] epoch=299, loss=2.9956221\n",
      "[INFO] epoch=399, loss=2.8027141\n",
      "[INFO] epoch=499, loss=2.3224910\n",
      "[INFO] epoch=599, loss=2.2077016\n",
      "[INFO] epoch=699, loss=1.2003951\n",
      "[INFO] epoch=799, loss=1.1546043\n",
      "[INFO] epoch=899, loss=1.1278682\n",
      "[INFO] epoch=999, loss=1.1094471\n"
     ]
    }
   ],
   "source": [
    "print(\"[INFO] training network...\")\n",
    "nn = NeuralNetwork([trainX.shape[1],32,16,10])\n",
    "print(f\"[INFO] {nn}\")\n",
    "nn.fit(trainX,trainY,epochs=1000)"
   ]
  },
  {
   "cell_type": "code",
   "execution_count": 7,
   "id": "fffd6667",
   "metadata": {},
   "outputs": [
    {
     "name": "stdout",
     "output_type": "stream",
     "text": [
      "[INFO] evaluating network...\n",
      "              precision    recall  f1-score   support\n",
      "\n",
      "           0       1.00      1.00      1.00        44\n",
      "           1       0.92      1.00      0.96        48\n",
      "           2       0.98      1.00      0.99        47\n",
      "           3       1.00      0.94      0.97        47\n",
      "           4       1.00      0.95      0.97        40\n",
      "           5       0.98      0.98      0.98        47\n",
      "           6       1.00      1.00      1.00        44\n",
      "           7       0.96      0.96      0.96        48\n",
      "           8       0.98      0.93      0.95        45\n",
      "           9       0.95      1.00      0.98        40\n",
      "\n",
      "    accuracy                           0.98       450\n",
      "   macro avg       0.98      0.98      0.98       450\n",
      "weighted avg       0.98      0.98      0.98       450\n",
      "\n"
     ]
    }
   ],
   "source": [
    "print(\"[INFO] evaluating network...\")\n",
    "predictions = nn.predict(testX)\n",
    "predictions = predictions.argmax(axis=1)\n",
    "print(classification_report(testY.argmax(axis=1), predictions))"
   ]
  },
  {
   "cell_type": "code",
   "execution_count": 8,
   "id": "cf434faf",
   "metadata": {},
   "outputs": [],
   "source": [
    "import matplotlib.pyplot as plt"
   ]
  },
  {
   "cell_type": "code",
   "execution_count": 9,
   "id": "495d3109",
   "metadata": {},
   "outputs": [
    {
     "data": {
      "text/plain": [
       "array([6])"
      ]
     },
     "execution_count": 9,
     "metadata": {},
     "output_type": "execute_result"
    },
    {
     "data": {
      "image/png": "[encoded data removed]",
      "text/plain": [
       "<Figure size 432x288 with 1 Axes>"
      ]
     },
     "metadata": {
      "needs_background": "light"
     },
     "output_type": "display_data"
    }
   ],
   "source": [
    "n = 63\n",
    "img = testX[n].reshape(8,8)\n",
    "plt.imshow(img,cmap='gray')\n",
    "pred = nn.predict(testX[n])\n",
    "pred.argmax(axis=1)"
   ]
  },
  {
   "cell_type": "code",
   "execution_count": null,
   "id": "da6d4dbf",
   "metadata": {},
   "outputs": [],
   "source": []
  }
 ],
 "metadata": {
  "kernelspec": {
   "display_name": "Python 3 (ipykernel)",
   "language": "python",
   "name": "python3"
  },
  "language_info": {
   "codemirror_mode": {
    "name": "ipython",
    "version": 3
   },
   "file_extension": ".py",
   "mimetype": "text/x-python",
   "name": "python",
   "nbconvert_exporter": "python",
   "pygments_lexer": "ipython3",
   "version": "3.8.10"
  }
 },
 "nbformat": 4,
 "nbformat_minor": 5
}
