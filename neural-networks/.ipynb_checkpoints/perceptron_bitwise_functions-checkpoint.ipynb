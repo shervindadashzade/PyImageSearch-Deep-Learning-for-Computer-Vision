{
 "cells": [
  {
   "cell_type": "code",
   "execution_count": 1,
   "id": "d90a77c5",
   "metadata": {},
   "outputs": [],
   "source": [
    "import sys\n",
    "import os\n",
    "\n",
    "sys.path.append(os.getcwd())"
   ]
  },
  {
   "cell_type": "code",
   "execution_count": 2,
   "id": "f5daf8f4",
   "metadata": {},
   "outputs": [],
   "source": [
    "from utils.nn import Perceptron\n",
    "import numpy as np"
   ]
  },
  {
   "cell_type": "markdown",
   "id": "1c67dcba",
   "metadata": {},
   "source": [
    "## Examine wheter our perceptron algorithm can learn OR function"
   ]
  },
  {
   "cell_type": "code",
   "execution_count": 3,
   "id": "130cd1ce",
   "metadata": {},
   "outputs": [],
   "source": [
    "X = np.array([[0,0],[0,1],[1,0],[1,1]])\n",
    "y = np.array([[0],[1],[1],[1]])"
   ]
  },
  {
   "cell_type": "code",
   "execution_count": 4,
   "id": "703bc19c",
   "metadata": {},
   "outputs": [
    {
     "name": "stdout",
     "output_type": "stream",
     "text": [
      "[INFO] training perceptron\n"
     ]
    }
   ],
   "source": [
    "print(\"[INFO] training perceptron\")\n",
    "p = Perceptron(X.shape[1], alpha=0.1)\n",
    "p.fit(X,y, epochs= 20)"
   ]
  },
  {
   "cell_type": "code",
   "execution_count": 5,
   "id": "5bd50e25",
   "metadata": {},
   "outputs": [
    {
     "name": "stdout",
     "output_type": "stream",
     "text": [
      "[INFO] testing perceptron...\n",
      "[INFO] data=[0 0] ground-truth=[0], pred=0\n",
      "[INFO] data=[0 1] ground-truth=[1], pred=1\n",
      "[INFO] data=[1 0] ground-truth=[1], pred=1\n",
      "[INFO] data=[1 1] ground-truth=[1], pred=1\n"
     ]
    }
   ],
   "source": [
    "print(\"[INFO] testing perceptron...\")\n",
    "for (x,target) in zip(X,y):\n",
    "    pred = p.predict(x)\n",
    "    print(f\"[INFO] data={x} ground-truth={target}, pred={pred}\")\n",
    "    "
   ]
  },
  {
   "cell_type": "markdown",
   "id": "f3099dfc",
   "metadata": {},
   "source": [
    "## Examine wheter our perceptron algorithm can learn AND function"
   ]
  },
  {
   "cell_type": "code",
   "execution_count": null,
   "id": "42c6afa8",
   "metadata": {},
   "outputs": [],
   "source": [
    "X = np.array([[0,0],[0,1],[1,0],[1,1]])\n",
    "y = np.array([[0],[0],[0],[1]])"
   ]
  },
  {
   "cell_type": "code",
   "execution_count": null,
   "id": "721f61b3",
   "metadata": {},
   "outputs": [],
   "source": []
  }
 ],
 "metadata": {
  "kernelspec": {
   "display_name": "Python 3 (ipykernel)",
   "language": "python",
   "name": "python3"
  },
  "language_info": {
   "codemirror_mode": {
    "name": "ipython",
    "version": 3
   },
   "file_extension": ".py",
   "mimetype": "text/x-python",
   "name": "python",
   "nbconvert_exporter": "python",
   "pygments_lexer": "ipython3",
   "version": "3.8.10"
  }
 },
 "nbformat": 4,
 "nbformat_minor": 5
}
