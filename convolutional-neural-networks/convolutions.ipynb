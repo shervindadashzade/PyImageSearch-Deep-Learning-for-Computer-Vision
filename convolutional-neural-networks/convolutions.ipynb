{
 "cells": [
  {
   "cell_type": "code",
   "execution_count": 3,
   "id": "3d64d992",
   "metadata": {},
   "outputs": [
    {
     "name": "stdout",
     "output_type": "stream",
     "text": [
      "Requirement already up-to-date: scikit-image in /home/shervin/.local/lib/python3.8/site-packages (0.19.3)\n",
      "Requirement already satisfied, skipping upgrade: scipy>=1.4.1 in /home/shervin/.local/lib/python3.8/site-packages (from scikit-image) (1.7.3)\n",
      "Requirement already satisfied, skipping upgrade: tifffile>=2019.7.26 in /home/shervin/.local/lib/python3.8/site-packages (from scikit-image) (2022.8.3)\n",
      "Requirement already satisfied, skipping upgrade: pillow!=7.1.0,!=7.1.1,!=8.3.0,>=6.1.0 in /home/shervin/.local/lib/python3.8/site-packages (from scikit-image) (9.0.1)\n",
      "Requirement already satisfied, skipping upgrade: packaging>=20.0 in /home/shervin/.local/lib/python3.8/site-packages (from scikit-image) (21.3)\n",
      "Requirement already satisfied, skipping upgrade: numpy>=1.17.0 in /home/shervin/.local/lib/python3.8/site-packages (from scikit-image) (1.22.1)\n",
      "Requirement already satisfied, skipping upgrade: networkx>=2.2 in /home/shervin/.local/lib/python3.8/site-packages (from scikit-image) (2.8.5)\n",
      "Requirement already satisfied, skipping upgrade: imageio>=2.4.1 in /home/shervin/.local/lib/python3.8/site-packages (from scikit-image) (2.21.1)\n",
      "Requirement already satisfied, skipping upgrade: PyWavelets>=1.1.1 in /home/shervin/.local/lib/python3.8/site-packages (from scikit-image) (1.3.0)\n",
      "Requirement already satisfied, skipping upgrade: pyparsing!=3.0.5,>=2.0.2 in /home/shervin/.local/lib/python3.8/site-packages (from packaging>=20.0->scikit-image) (3.0.7)\n"
     ]
    }
   ],
   "source": [
    "!pip install -U scikit-image"
   ]
  },
  {
   "cell_type": "code",
   "execution_count": 1,
   "id": "6b36285f",
   "metadata": {},
   "outputs": [],
   "source": [
    "from skimage.exposure import rescale_intensity\n",
    "import numpy as np\n",
    "import cv2"
   ]
  },
  {
   "cell_type": "code",
   "execution_count": 12,
   "id": "e57aa49f",
   "metadata": {},
   "outputs": [],
   "source": [
    "def convolve(image, K):\n",
    "    (iH,iW) = image.shape[:2]\n",
    "    (kH,kW) = K.shape[:2]\n",
    "    \n",
    "    pad = (kW - 1) // 2\n",
    "    image = cv2.copyMakeBorder(image, pad, pad, pad, pad, cv2.BORDER_REPLICATE)\n",
    "    output = np.zeros((iH,iW), dtype=\"float\")\n",
    "    for y in np.arange(pad, iH + pad):\n",
    "        for x in np.arange(pad, iW + pad):\n",
    "            \n",
    "            roi = image[y-pad:y+pad+1,x-pad:x+pad+1]\n",
    "            k = (roi * K).sum()\n",
    "            \n",
    "            output[y-pad,x-pad] = k\n",
    "    output = rescale_intensity(output, in_range=(0,255))\n",
    "    output = (output * 255).astype('uint8')\n",
    "    \n",
    "    return output\n",
    "    "
   ]
  },
  {
   "cell_type": "code",
   "execution_count": 4,
   "id": "86ea2542",
   "metadata": {},
   "outputs": [],
   "source": [
    "smallBlur = np.ones((7,7), dtype=\"float\")*(1.0/(7*7))\n",
    "largeBlur = np.ones((21,21), dtype=\"float\")*(1.0/(21*21))"
   ]
  },
  {
   "cell_type": "code",
   "execution_count": 5,
   "id": "b2f0c687",
   "metadata": {},
   "outputs": [],
   "source": [
    "sharpen = np.array((\n",
    "    [0,-1,0],\n",
    "    [-1,5,-1],\n",
    "    [0,-1,0]\n",
    "),dtype='int')"
   ]
  },
  {
   "cell_type": "code",
   "execution_count": 6,
   "id": "d63cafe6",
   "metadata": {},
   "outputs": [],
   "source": [
    "laplacian = np.array((\n",
    "    [0,1,0],\n",
    "    [1,-4,1],\n",
    "    [0,1,0]\n",
    "    ),dtype='int')"
   ]
  },
  {
   "cell_type": "code",
   "execution_count": 7,
   "id": "511bd927",
   "metadata": {},
   "outputs": [],
   "source": [
    "sobelX = np.array((\n",
    "    [-1,0,1],\n",
    "    [-2,0,2],\n",
    "    [-1,0,1]\n",
    "),dtype='int')\n",
    "\n",
    "sobelY = np.array((\n",
    "    [-1,-2,-1],\n",
    "    [0,0,0],\n",
    "    [1,2,1]\n",
    "),dtype='int')"
   ]
  },
  {
   "cell_type": "code",
   "execution_count": 8,
   "id": "f579b65c",
   "metadata": {},
   "outputs": [],
   "source": [
    "emboss = np.array((\n",
    "    [-2,-1,0],\n",
    "    [-1,1,1],\n",
    "    [0,1,2]\n",
    "),dtype='int')"
   ]
  },
  {
   "cell_type": "code",
   "execution_count": 9,
   "id": "e3466206",
   "metadata": {},
   "outputs": [],
   "source": [
    "kernelBank = (\n",
    "    (\"smallBlur\",smallBlur),\n",
    "    ('largeBlur',largeBlur),\n",
    "    ('sharpen',sharpen),\n",
    "    ('laplacian', laplacian),\n",
    "    ('sobel_x',sobelX),\n",
    "    ('sobel_y',sobelY),\n",
    "    ('emboss',emboss)\n",
    ")"
   ]
  },
  {
   "cell_type": "code",
   "execution_count": 13,
   "id": "040b9827",
   "metadata": {},
   "outputs": [
    {
     "name": "stdout",
     "output_type": "stream",
     "text": [
      "[INFO] applying smallBlur kernel\n",
      "[INFO] applying largeBlur kernel\n",
      "[INFO] applying sharpen kernel\n",
      "[INFO] applying laplacian kernel\n",
      "[INFO] applying sobel_x kernel\n",
      "[INFO] applying sobel_y kernel\n",
      "[INFO] applying emboss kernel\n"
     ]
    }
   ],
   "source": [
    "image = cv2.imread('dog.jpg')\n",
    "gray = cv2.cvtColor(image, cv2.COLOR_BGR2GRAY)\n",
    "\n",
    "for (kernelName, K) in kernelBank:\n",
    "    \n",
    "    print(f\"[INFO] applying {kernelName} kernel\")\n",
    "    convolveOutput = convolve(gray, K)\n",
    "    opencvOutput = cv2.filter2D(gray, -1, K)\n",
    "    \n",
    "    cv2.imshow(\"Original\", gray)\n",
    "    cv2.imshow(f'{kernelName} - convolve', convolveOutput)\n",
    "    cv2.imshow(f'{kernelName} - opencv', opencvOutput)\n",
    "    cv2.waitKey(0)\n",
    "    cv2.destroyAllWindows()\n"
   ]
  },
  {
   "cell_type": "code",
   "execution_count": null,
   "id": "74b7fd35",
   "metadata": {},
   "outputs": [],
   "source": []
  },
  {
   "cell_type": "code",
   "execution_count": null,
   "id": "aacb3e2e",
   "metadata": {},
   "outputs": [],
   "source": []
  },
  {
   "cell_type": "code",
   "execution_count": null,
   "id": "5ccdc1a6",
   "metadata": {},
   "outputs": [],
   "source": []
  }
 ],
 "metadata": {
  "kernelspec": {
   "display_name": "Python 3 (ipykernel)",
   "language": "python",
   "name": "python3"
  },
  "language_info": {
   "codemirror_mode": {
    "name": "ipython",
    "version": 3
   },
   "file_extension": ".py",
   "mimetype": "text/x-python",
   "name": "python",
   "nbconvert_exporter": "python",
   "pygments_lexer": "ipython3",
   "version": "3.8.10"
  }
 },
 "nbformat": 4,
 "nbformat_minor": 5
}
