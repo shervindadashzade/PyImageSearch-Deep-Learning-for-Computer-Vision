{
 "cells": [
  {
   "cell_type": "code",
   "execution_count": 1,
   "id": "265ce610",
   "metadata": {},
   "outputs": [
    {
     "name": "stderr",
     "output_type": "stream",
     "text": [
      "2022-09-05 11:02:22.295984: W tensorflow/stream_executor/platform/default/dso_loader.cc:64] Could not load dynamic library 'libcudart.so.11.0'; dlerror: libcudart.so.11.0: cannot open shared object file: No such file or directory; LD_LIBRARY_PATH: /home/shervin/.local/lib/python3.8/site-packages/cv2/../../lib64:\n",
      "2022-09-05 11:02:22.296039: I tensorflow/stream_executor/cuda/cudart_stub.cc:29] Ignore above cudart dlerror if you do not have a GPU set up on your machine.\n"
     ]
    }
   ],
   "source": [
    "from sklearn.preprocessing import LabelBinarizer\n",
    "from sklearn.model_selection import train_test_split\n",
    "from sklearn.metrics import classification_report\n",
    "from utils.preprocessing import ImageToArrayPreprocessor\n",
    "from utils.preprocessing import SimplePreprocessor\n",
    "from utils.datasets import SimpleDatasetLoader\n",
    "from utils.nn.conv import ShallowNet\n",
    "from keras.optimizers import SGD\n",
    "from imutils import paths\n",
    "import matplotlib.pyplot as plt\n",
    "import numpy as np"
   ]
  },
  {
   "cell_type": "code",
   "execution_count": 2,
   "id": "92e08279",
   "metadata": {},
   "outputs": [],
   "source": [
    "## Set your parameters here\n",
    "dataset = '/home/shervin/Code/mehdi kashani/Summer-2022/Deep-Learning-for-Computer-Vision/Deep-Learning-for-Computer-Vision/datasets/animals'"
   ]
  },
  {
   "cell_type": "code",
   "execution_count": 3,
   "id": "980e8b38",
   "metadata": {},
   "outputs": [
    {
     "name": "stdout",
     "output_type": "stream",
     "text": [
      "[INFO] loading images...\n",
      "[INFO] processed 500/3000\n",
      "[INFO] processed 1000/3000\n",
      "[INFO] processed 1500/3000\n",
      "[INFO] processed 2000/3000\n",
      "[INFO] processed 2500/3000\n",
      "[INFO] processed 3000/3000\n"
     ]
    }
   ],
   "source": [
    "print('[INFO] loading images...')\n",
    "imagePaths = list(paths.list_images(dataset))\n",
    "sp = SimplePreprocessor(32, 32)\n",
    "iap = ImageToArrayPreprocessor()\n",
    "\n",
    "sdl = SimpleDatasetLoader(preprocessors=[sp,iap])\n",
    "(data, labels) = sdl.load(imagePaths, verbose=500)\n",
    "data = data.astype(\"float\")/255.0"
   ]
  },
  {
   "cell_type": "code",
   "execution_count": 5,
   "id": "f8450128",
   "metadata": {},
   "outputs": [],
   "source": [
    "(trainX,testX, trainY,testY) = train_test_split(data, labels, test_size=0.25, random_state=42)"
   ]
  },
  {
   "cell_type": "code",
   "execution_count": 6,
   "id": "2f9025ae",
   "metadata": {},
   "outputs": [],
   "source": [
    "trainY = LabelBinarizer().fit_transform(trainY)\n",
    "testY = LabelBinarizer().fit_transform(testY)"
   ]
  },
  {
   "cell_type": "code",
   "execution_count": 8,
   "id": "8c4da80a",
   "metadata": {},
   "outputs": [
    {
     "name": "stdout",
     "output_type": "stream",
     "text": [
      "[INFO] compiling the model...\n",
      "[INFO] training network...\n"
     ]
    },
    {
     "name": "stderr",
     "output_type": "stream",
     "text": [
      "/home/shervin/.local/lib/python3.8/site-packages/keras/optimizers/optimizer_v2/gradient_descent.py:108: UserWarning: The `lr` argument is deprecated, use `learning_rate` instead.\n",
      "  super(SGD, self).__init__(name, **kwargs)\n",
      "2022-09-05 11:08:49.848196: W tensorflow/stream_executor/platform/default/dso_loader.cc:64] Could not load dynamic library 'libcuda.so.1'; dlerror: libcuda.so.1: cannot open shared object file: No such file or directory; LD_LIBRARY_PATH: /home/shervin/.local/lib/python3.8/site-packages/cv2/../../lib64:\n",
      "2022-09-05 11:08:49.848277: W tensorflow/stream_executor/cuda/cuda_driver.cc:269] failed call to cuInit: UNKNOWN ERROR (303)\n",
      "2022-09-05 11:08:49.848329: I tensorflow/stream_executor/cuda/cuda_diagnostics.cc:156] kernel driver does not appear to be running on this host (shervin): /proc/driver/nvidia/version does not exist\n",
      "2022-09-05 11:08:49.848866: I tensorflow/core/platform/cpu_feature_guard.cc:193] This TensorFlow binary is optimized with oneAPI Deep Neural Network Library (oneDNN) to use the following CPU instructions in performance-critical operations:  AVX2 FMA\n",
      "To enable them in other operations, rebuild TensorFlow with the appropriate compiler flags.\n"
     ]
    },
    {
     "name": "stdout",
     "output_type": "stream",
     "text": [
      "Epoch 1/100\n",
      "71/71 [==============================] - 3s 28ms/step - loss: 1.0008 - accuracy: 0.4818 - val_loss: 1.2139 - val_accuracy: 0.4093\n",
      "Epoch 2/100\n",
      "71/71 [==============================] - 2s 24ms/step - loss: 0.9290 - accuracy: 0.5391 - val_loss: 0.9283 - val_accuracy: 0.5293\n",
      "Epoch 3/100\n",
      "71/71 [==============================] - 2s 22ms/step - loss: 0.8829 - accuracy: 0.5489 - val_loss: 0.9319 - val_accuracy: 0.4987\n",
      "Epoch 4/100\n",
      "71/71 [==============================] - 2s 23ms/step - loss: 0.8529 - accuracy: 0.5907 - val_loss: 0.8660 - val_accuracy: 0.5480\n",
      "Epoch 5/100\n",
      "71/71 [==============================] - 2s 22ms/step - loss: 0.8425 - accuracy: 0.5844 - val_loss: 0.8842 - val_accuracy: 0.5493\n",
      "Epoch 6/100\n",
      "71/71 [==============================] - 2s 22ms/step - loss: 0.8278 - accuracy: 0.5844 - val_loss: 0.9000 - val_accuracy: 0.5280\n",
      "Epoch 7/100\n",
      "71/71 [==============================] - 2s 23ms/step - loss: 0.8075 - accuracy: 0.6098 - val_loss: 0.8789 - val_accuracy: 0.5787\n",
      "Epoch 8/100\n",
      "71/71 [==============================] - 2s 23ms/step - loss: 0.7923 - accuracy: 0.6169 - val_loss: 0.9647 - val_accuracy: 0.5173\n",
      "Epoch 9/100\n",
      "71/71 [==============================] - 2s 25ms/step - loss: 0.7840 - accuracy: 0.6209 - val_loss: 0.8740 - val_accuracy: 0.5613\n",
      "Epoch 10/100\n",
      "71/71 [==============================] - 2s 27ms/step - loss: 0.7789 - accuracy: 0.6378 - val_loss: 0.8283 - val_accuracy: 0.6000\n",
      "Epoch 11/100\n",
      "71/71 [==============================] - 2s 27ms/step - loss: 0.7737 - accuracy: 0.6298 - val_loss: 0.8888 - val_accuracy: 0.5507\n",
      "Epoch 12/100\n",
      "71/71 [==============================] - 2s 29ms/step - loss: 0.7582 - accuracy: 0.6400 - val_loss: 0.9119 - val_accuracy: 0.5467\n",
      "Epoch 13/100\n",
      "71/71 [==============================] - 2s 24ms/step - loss: 0.7646 - accuracy: 0.6289 - val_loss: 0.8757 - val_accuracy: 0.5640\n",
      "Epoch 14/100\n",
      "71/71 [==============================] - 2s 23ms/step - loss: 0.7526 - accuracy: 0.6378 - val_loss: 0.8583 - val_accuracy: 0.5760\n",
      "Epoch 15/100\n",
      "71/71 [==============================] - 2s 27ms/step - loss: 0.7409 - accuracy: 0.6556 - val_loss: 0.8115 - val_accuracy: 0.6120\n",
      "Epoch 16/100\n",
      "71/71 [==============================] - 2s 30ms/step - loss: 0.7310 - accuracy: 0.6569 - val_loss: 0.8069 - val_accuracy: 0.6067\n",
      "Epoch 17/100\n",
      "71/71 [==============================] - 2s 28ms/step - loss: 0.7249 - accuracy: 0.6538 - val_loss: 0.8167 - val_accuracy: 0.6133\n",
      "Epoch 18/100\n",
      "71/71 [==============================] - 2s 28ms/step - loss: 0.7256 - accuracy: 0.6649 - val_loss: 0.8415 - val_accuracy: 0.5840\n",
      "Epoch 19/100\n",
      "71/71 [==============================] - 2s 24ms/step - loss: 0.7153 - accuracy: 0.6751 - val_loss: 0.8023 - val_accuracy: 0.6053\n",
      "Epoch 20/100\n",
      "71/71 [==============================] - 2s 24ms/step - loss: 0.7027 - accuracy: 0.6751 - val_loss: 1.0352 - val_accuracy: 0.5453\n",
      "Epoch 21/100\n",
      "71/71 [==============================] - 2s 24ms/step - loss: 0.7046 - accuracy: 0.6836 - val_loss: 0.8036 - val_accuracy: 0.5907\n",
      "Epoch 22/100\n",
      "71/71 [==============================] - 2s 23ms/step - loss: 0.6989 - accuracy: 0.6849 - val_loss: 0.7963 - val_accuracy: 0.6000\n",
      "Epoch 23/100\n",
      "71/71 [==============================] - 2s 23ms/step - loss: 0.6868 - accuracy: 0.6996 - val_loss: 0.8909 - val_accuracy: 0.5680\n",
      "Epoch 24/100\n",
      "71/71 [==============================] - 2s 24ms/step - loss: 0.6802 - accuracy: 0.6867 - val_loss: 0.8103 - val_accuracy: 0.5947\n",
      "Epoch 25/100\n",
      "71/71 [==============================] - 2s 24ms/step - loss: 0.6742 - accuracy: 0.6902 - val_loss: 0.9566 - val_accuracy: 0.5387\n",
      "Epoch 26/100\n",
      "71/71 [==============================] - 2s 22ms/step - loss: 0.6735 - accuracy: 0.6982 - val_loss: 0.8796 - val_accuracy: 0.5547\n",
      "Epoch 27/100\n",
      "71/71 [==============================] - 2s 25ms/step - loss: 0.6612 - accuracy: 0.7027 - val_loss: 0.7783 - val_accuracy: 0.6147\n",
      "Epoch 28/100\n",
      "71/71 [==============================] - 2s 23ms/step - loss: 0.6517 - accuracy: 0.7062 - val_loss: 0.7833 - val_accuracy: 0.6267\n",
      "Epoch 29/100\n",
      "71/71 [==============================] - 2s 31ms/step - loss: 0.6468 - accuracy: 0.7076 - val_loss: 0.7956 - val_accuracy: 0.6147\n",
      "Epoch 30/100\n",
      "71/71 [==============================] - 2s 34ms/step - loss: 0.6428 - accuracy: 0.7240 - val_loss: 0.8286 - val_accuracy: 0.5840\n",
      "Epoch 31/100\n",
      "71/71 [==============================] - 2s 26ms/step - loss: 0.6373 - accuracy: 0.7156 - val_loss: 0.7862 - val_accuracy: 0.6187\n",
      "Epoch 32/100\n",
      "71/71 [==============================] - 2s 25ms/step - loss: 0.6303 - accuracy: 0.7218 - val_loss: 0.8994 - val_accuracy: 0.5640\n",
      "Epoch 33/100\n",
      "71/71 [==============================] - 2s 24ms/step - loss: 0.6281 - accuracy: 0.7258 - val_loss: 0.7656 - val_accuracy: 0.6347\n",
      "Epoch 34/100\n",
      "71/71 [==============================] - 2s 24ms/step - loss: 0.6108 - accuracy: 0.7284 - val_loss: 0.8556 - val_accuracy: 0.5853\n",
      "Epoch 35/100\n",
      "71/71 [==============================] - 2s 27ms/step - loss: 0.6108 - accuracy: 0.7311 - val_loss: 0.8284 - val_accuracy: 0.6080\n",
      "Epoch 36/100\n",
      "71/71 [==============================] - 2s 27ms/step - loss: 0.6078 - accuracy: 0.7409 - val_loss: 0.7985 - val_accuracy: 0.5973\n",
      "Epoch 37/100\n",
      "71/71 [==============================] - 2s 29ms/step - loss: 0.5971 - accuracy: 0.7422 - val_loss: 0.7638 - val_accuracy: 0.6240\n",
      "Epoch 38/100\n",
      "71/71 [==============================] - 2s 29ms/step - loss: 0.5913 - accuracy: 0.7489 - val_loss: 0.8621 - val_accuracy: 0.5693\n",
      "Epoch 39/100\n",
      "71/71 [==============================] - 2s 25ms/step - loss: 0.5900 - accuracy: 0.7502 - val_loss: 0.8370 - val_accuracy: 0.6067\n",
      "Epoch 40/100\n",
      "71/71 [==============================] - 2s 33ms/step - loss: 0.5832 - accuracy: 0.7511 - val_loss: 0.7544 - val_accuracy: 0.6400\n",
      "Epoch 41/100\n",
      "71/71 [==============================] - 2s 27ms/step - loss: 0.5777 - accuracy: 0.7591 - val_loss: 0.7475 - val_accuracy: 0.6373\n",
      "Epoch 42/100\n",
      "71/71 [==============================] - 2s 33ms/step - loss: 0.5728 - accuracy: 0.7538 - val_loss: 0.7662 - val_accuracy: 0.6373\n",
      "Epoch 43/100\n",
      "71/71 [==============================] - 3s 40ms/step - loss: 0.5688 - accuracy: 0.7484 - val_loss: 0.7956 - val_accuracy: 0.6187\n",
      "Epoch 44/100\n",
      "71/71 [==============================] - 3s 36ms/step - loss: 0.5542 - accuracy: 0.7636 - val_loss: 0.7898 - val_accuracy: 0.6213\n",
      "Epoch 45/100\n",
      "71/71 [==============================] - 2s 33ms/step - loss: 0.5584 - accuracy: 0.7618 - val_loss: 0.7413 - val_accuracy: 0.6347\n",
      "Epoch 46/100\n",
      "71/71 [==============================] - 2s 27ms/step - loss: 0.5493 - accuracy: 0.7671 - val_loss: 0.7518 - val_accuracy: 0.6347\n",
      "Epoch 47/100\n",
      "71/71 [==============================] - 2s 28ms/step - loss: 0.5414 - accuracy: 0.7818 - val_loss: 0.7651 - val_accuracy: 0.6320\n",
      "Epoch 48/100\n",
      "71/71 [==============================] - 2s 25ms/step - loss: 0.5413 - accuracy: 0.7733 - val_loss: 0.7408 - val_accuracy: 0.6507\n",
      "Epoch 49/100\n",
      "71/71 [==============================] - 2s 26ms/step - loss: 0.5318 - accuracy: 0.7751 - val_loss: 0.7506 - val_accuracy: 0.6453\n",
      "Epoch 50/100\n",
      "71/71 [==============================] - 2s 23ms/step - loss: 0.5317 - accuracy: 0.7813 - val_loss: 0.8217 - val_accuracy: 0.6147\n",
      "Epoch 51/100\n",
      "71/71 [==============================] - 2s 23ms/step - loss: 0.5309 - accuracy: 0.7827 - val_loss: 0.7513 - val_accuracy: 0.6427\n",
      "Epoch 52/100\n",
      "71/71 [==============================] - 2s 25ms/step - loss: 0.5185 - accuracy: 0.7889 - val_loss: 0.7740 - val_accuracy: 0.6200\n",
      "Epoch 53/100\n",
      "71/71 [==============================] - 2s 25ms/step - loss: 0.5192 - accuracy: 0.7849 - val_loss: 0.7423 - val_accuracy: 0.6600\n",
      "Epoch 54/100\n",
      "71/71 [==============================] - 2s 26ms/step - loss: 0.5097 - accuracy: 0.7880 - val_loss: 0.9932 - val_accuracy: 0.5493\n",
      "Epoch 55/100\n",
      "71/71 [==============================] - 2s 23ms/step - loss: 0.5064 - accuracy: 0.7933 - val_loss: 1.0429 - val_accuracy: 0.5453\n",
      "Epoch 56/100\n",
      "71/71 [==============================] - 2s 23ms/step - loss: 0.5021 - accuracy: 0.7898 - val_loss: 0.8148 - val_accuracy: 0.6173\n",
      "Epoch 57/100\n",
      "71/71 [==============================] - 2s 23ms/step - loss: 0.4926 - accuracy: 0.7978 - val_loss: 0.7865 - val_accuracy: 0.6133\n",
      "Epoch 58/100\n"
     ]
    },
    {
     "name": "stdout",
     "output_type": "stream",
     "text": [
      "71/71 [==============================] - 2s 22ms/step - loss: 0.4848 - accuracy: 0.8013 - val_loss: 0.7662 - val_accuracy: 0.6320\n",
      "Epoch 59/100\n",
      "71/71 [==============================] - 2s 23ms/step - loss: 0.4849 - accuracy: 0.7929 - val_loss: 0.7544 - val_accuracy: 0.6613\n",
      "Epoch 60/100\n",
      "71/71 [==============================] - 2s 27ms/step - loss: 0.4728 - accuracy: 0.8156 - val_loss: 0.8038 - val_accuracy: 0.6387\n",
      "Epoch 61/100\n",
      "71/71 [==============================] - 2s 27ms/step - loss: 0.4784 - accuracy: 0.8053 - val_loss: 0.7937 - val_accuracy: 0.6400\n",
      "Epoch 62/100\n",
      "71/71 [==============================] - 2s 29ms/step - loss: 0.4703 - accuracy: 0.8142 - val_loss: 0.7515 - val_accuracy: 0.6667\n",
      "Epoch 63/100\n",
      "71/71 [==============================] - 2s 25ms/step - loss: 0.4620 - accuracy: 0.8124 - val_loss: 0.7910 - val_accuracy: 0.6213\n",
      "Epoch 64/100\n",
      "71/71 [==============================] - 2s 27ms/step - loss: 0.4635 - accuracy: 0.8169 - val_loss: 0.7327 - val_accuracy: 0.6587\n",
      "Epoch 65/100\n",
      "71/71 [==============================] - 2s 26ms/step - loss: 0.4635 - accuracy: 0.8169 - val_loss: 0.7358 - val_accuracy: 0.6720\n",
      "Epoch 66/100\n",
      "71/71 [==============================] - 2s 27ms/step - loss: 0.4504 - accuracy: 0.8293 - val_loss: 0.7505 - val_accuracy: 0.6520\n",
      "Epoch 67/100\n",
      "71/71 [==============================] - 2s 25ms/step - loss: 0.4543 - accuracy: 0.8178 - val_loss: 0.9242 - val_accuracy: 0.5867\n",
      "Epoch 68/100\n",
      "71/71 [==============================] - 2s 24ms/step - loss: 0.4507 - accuracy: 0.8204 - val_loss: 0.7376 - val_accuracy: 0.6653\n",
      "Epoch 69/100\n",
      "71/71 [==============================] - 2s 27ms/step - loss: 0.4446 - accuracy: 0.8302 - val_loss: 0.7392 - val_accuracy: 0.6693\n",
      "Epoch 70/100\n",
      "71/71 [==============================] - 2s 23ms/step - loss: 0.4477 - accuracy: 0.8213 - val_loss: 0.9470 - val_accuracy: 0.5947\n",
      "Epoch 71/100\n",
      "71/71 [==============================] - 2s 26ms/step - loss: 0.4372 - accuracy: 0.8293 - val_loss: 0.7311 - val_accuracy: 0.6667\n",
      "Epoch 72/100\n",
      "71/71 [==============================] - 2s 26ms/step - loss: 0.4338 - accuracy: 0.8302 - val_loss: 0.7429 - val_accuracy: 0.6733\n",
      "Epoch 73/100\n",
      "71/71 [==============================] - 2s 25ms/step - loss: 0.4290 - accuracy: 0.8360 - val_loss: 0.7372 - val_accuracy: 0.6613\n",
      "Epoch 74/100\n",
      "71/71 [==============================] - 2s 25ms/step - loss: 0.4215 - accuracy: 0.8418 - val_loss: 0.7239 - val_accuracy: 0.6720\n",
      "Epoch 75/100\n",
      "71/71 [==============================] - 2s 24ms/step - loss: 0.4194 - accuracy: 0.8387 - val_loss: 0.7351 - val_accuracy: 0.6707\n",
      "Epoch 76/100\n",
      "71/71 [==============================] - 2s 23ms/step - loss: 0.4183 - accuracy: 0.8387 - val_loss: 0.8166 - val_accuracy: 0.6320\n",
      "Epoch 77/100\n",
      "71/71 [==============================] - 2s 23ms/step - loss: 0.4119 - accuracy: 0.8507 - val_loss: 0.7649 - val_accuracy: 0.6627\n",
      "Epoch 78/100\n",
      "71/71 [==============================] - 2s 22ms/step - loss: 0.4085 - accuracy: 0.8511 - val_loss: 0.7357 - val_accuracy: 0.6667\n",
      "Epoch 79/100\n",
      "71/71 [==============================] - 2s 23ms/step - loss: 0.4041 - accuracy: 0.8476 - val_loss: 0.7617 - val_accuracy: 0.6520\n",
      "Epoch 80/100\n",
      "71/71 [==============================] - 2s 24ms/step - loss: 0.4070 - accuracy: 0.8476 - val_loss: 0.7430 - val_accuracy: 0.6680\n",
      "Epoch 81/100\n",
      "71/71 [==============================] - 2s 24ms/step - loss: 0.3995 - accuracy: 0.8516 - val_loss: 0.7344 - val_accuracy: 0.6747\n",
      "Epoch 82/100\n",
      "71/71 [==============================] - 2s 22ms/step - loss: 0.3914 - accuracy: 0.8622 - val_loss: 0.8443 - val_accuracy: 0.6187\n",
      "Epoch 83/100\n",
      "71/71 [==============================] - 2s 22ms/step - loss: 0.3882 - accuracy: 0.8609 - val_loss: 0.7325 - val_accuracy: 0.6680\n",
      "Epoch 84/100\n",
      "71/71 [==============================] - 2s 22ms/step - loss: 0.3862 - accuracy: 0.8622 - val_loss: 0.8428 - val_accuracy: 0.6333\n",
      "Epoch 85/100\n",
      "71/71 [==============================] - 2s 22ms/step - loss: 0.3867 - accuracy: 0.8587 - val_loss: 0.7669 - val_accuracy: 0.6747\n",
      "Epoch 86/100\n",
      "71/71 [==============================] - 2s 23ms/step - loss: 0.3794 - accuracy: 0.8618 - val_loss: 0.7771 - val_accuracy: 0.6613\n",
      "Epoch 87/100\n",
      "71/71 [==============================] - 2s 26ms/step - loss: 0.3805 - accuracy: 0.8578 - val_loss: 0.7874 - val_accuracy: 0.6453\n",
      "Epoch 88/100\n",
      "71/71 [==============================] - 2s 23ms/step - loss: 0.3755 - accuracy: 0.8627 - val_loss: 0.8246 - val_accuracy: 0.6467\n",
      "Epoch 89/100\n",
      "71/71 [==============================] - 2s 24ms/step - loss: 0.3720 - accuracy: 0.8653 - val_loss: 0.7419 - val_accuracy: 0.6760\n",
      "Epoch 90/100\n",
      "71/71 [==============================] - 2s 23ms/step - loss: 0.3701 - accuracy: 0.8667 - val_loss: 0.7665 - val_accuracy: 0.6747\n",
      "Epoch 91/100\n",
      "71/71 [==============================] - 2s 23ms/step - loss: 0.3662 - accuracy: 0.8698 - val_loss: 0.7405 - val_accuracy: 0.6827\n",
      "Epoch 92/100\n",
      "71/71 [==============================] - 2s 23ms/step - loss: 0.3622 - accuracy: 0.8787 - val_loss: 0.7368 - val_accuracy: 0.6773\n",
      "Epoch 93/100\n",
      "71/71 [==============================] - 2s 23ms/step - loss: 0.3631 - accuracy: 0.8716 - val_loss: 0.7675 - val_accuracy: 0.6667\n",
      "Epoch 94/100\n",
      "71/71 [==============================] - 2s 22ms/step - loss: 0.3552 - accuracy: 0.8742 - val_loss: 0.8081 - val_accuracy: 0.6520\n",
      "Epoch 95/100\n",
      "71/71 [==============================] - 2s 23ms/step - loss: 0.3552 - accuracy: 0.8742 - val_loss: 0.7591 - val_accuracy: 0.6680\n",
      "Epoch 96/100\n",
      "71/71 [==============================] - 2s 22ms/step - loss: 0.3554 - accuracy: 0.8760 - val_loss: 0.7764 - val_accuracy: 0.6613\n",
      "Epoch 97/100\n",
      "71/71 [==============================] - 2s 23ms/step - loss: 0.3492 - accuracy: 0.8742 - val_loss: 0.7750 - val_accuracy: 0.6640\n",
      "Epoch 98/100\n",
      "71/71 [==============================] - 2s 23ms/step - loss: 0.3501 - accuracy: 0.8760 - val_loss: 0.7472 - val_accuracy: 0.6813\n",
      "Epoch 99/100\n",
      "71/71 [==============================] - 2s 23ms/step - loss: 0.3390 - accuracy: 0.8831 - val_loss: 0.7616 - val_accuracy: 0.6680\n",
      "Epoch 100/100\n",
      "71/71 [==============================] - 2s 23ms/step - loss: 0.3415 - accuracy: 0.8840 - val_loss: 0.8351 - val_accuracy: 0.6467\n"
     ]
    }
   ],
   "source": [
    "print('[INFO] compiling the model...')\n",
    "opt = SGD(lr=0.005)\n",
    "model = ShallowNet.build(width=32,height=32, depth=3, classes=3)\n",
    "model.compile(loss='categorical_crossentropy', optimizer=opt, metrics=['accuracy'])\n",
    "\n",
    "print(\"[INFO] training network...\")\n",
    "H = model.fit(trainX,trainY, validation_data=(testX,testY),batch_size=32,epochs=100, verbose=1)"
   ]
  },
  {
   "cell_type": "code",
   "execution_count": 10,
   "id": "fe62d314",
   "metadata": {},
   "outputs": [
    {
     "name": "stdout",
     "output_type": "stream",
     "text": [
      "[INFO] evaluating our network...\n",
      "24/24 [==============================] - 0s 8ms/step\n",
      "              precision    recall  f1-score   support\n",
      "\n",
      "         cat       0.64      0.47      0.54       262\n",
      "         dog       0.51      0.76      0.61       239\n",
      "       panda       0.91      0.72      0.80       249\n",
      "\n",
      "    accuracy                           0.65       750\n",
      "   macro avg       0.68      0.65      0.65       750\n",
      "weighted avg       0.69      0.65      0.65       750\n",
      "\n"
     ]
    }
   ],
   "source": [
    "print(\"[INFO] evaluating our network...\")\n",
    "predictions = model.predict(testX, batch_size=32)\n",
    "print(classification_report(testY.argmax(axis=1), predictions.argmax(axis=1), target_names=['cat','dog','panda']))"
   ]
  },
  {
   "cell_type": "code",
   "execution_count": 15,
   "id": "a545382e",
   "metadata": {},
   "outputs": [
    {
     "data": {
      "image/png": "[encoded data removed]",
      "text/plain": [
       "<Figure size 432x288 with 1 Axes>"
      ]
     },
     "metadata": {},
     "output_type": "display_data"
    }
   ],
   "source": [
    "plt.style.use('ggplot')\n",
    "plt.figure()\n",
    "plt.plot(np.arange(0,100), H.history['loss'], label='train_loss')\n",
    "plt.plot(np.arange(0,100), H.history['val_loss'], label='val_loss')\n",
    "plt.plot(np.arange(0,100), H.history['accuracy'], label='train_acc')\n",
    "plt.plot(np.arange(0,100), H.history['val_accuracy'], label='val_acc')\n",
    "plt.title('Training Loss and Accuracy')\n",
    "plt.xlabel(\"Epoch #\")\n",
    "plt.ylabel(\"Loss/Accuracy\")\n",
    "plt.legend()\n",
    "plt.show()"
   ]
  }
 ],
 "metadata": {
  "kernelspec": {
   "display_name": "Python 3 (ipykernel)",
   "language": "python",
   "name": "python3"
  },
  "language_info": {
   "codemirror_mode": {
    "name": "ipython",
    "version": 3
   },
   "file_extension": ".py",
   "mimetype": "text/x-python",
   "name": "python",
   "nbconvert_exporter": "python",
   "pygments_lexer": "ipython3",
   "version": "3.8.10"
  }
 },
 "nbformat": 4,
 "nbformat_minor": 5
}
